{
 "cells": [
  {
   "cell_type": "code",
   "execution_count": 213,
   "metadata": {},
   "outputs": [],
   "source": [
    "import pandas as pd\n",
    "import numpy as np\n",
    "from random import randint"
   ]
  },
  {
   "cell_type": "code",
   "execution_count": 214,
   "metadata": {},
   "outputs": [],
   "source": [
    "dataset = pd.read_csv('dataset_dbscan.csv', delimiter=';')"
   ]
  },
  {
   "cell_type": "code",
   "execution_count": 215,
   "metadata": {},
   "outputs": [
    {
     "data": {
      "text/plain": [
       "array([[85, 85,  0],\n",
       "       [80, 90,  0],\n",
       "       [65, 70,  0],\n",
       "       [72, 95,  0],\n",
       "       [83, 78,  0],\n",
       "       [60, 75,  0],\n",
       "       [78, 85,  0],\n",
       "       [64, 65,  0],\n",
       "       [69, 70,  0],\n",
       "       [75, 88,  0]], dtype=int64)"
      ]
     },
     "execution_count": 215,
     "metadata": {},
     "output_type": "execute_result"
    }
   ],
   "source": [
    "array_dataset = dataset.drop('No',axis=1)\n",
    "array_dataset = array_dataset.values\n",
    "array_dataset"
   ]
  },
  {
   "cell_type": "markdown",
   "metadata": {},
   "source": [
    "## Calculate Distance"
   ]
  },
  {
   "cell_type": "code",
   "execution_count": 216,
   "metadata": {},
   "outputs": [],
   "source": [
    "def cal_distance(data1, data2):\n",
    "    temp1 = data1[0]\n",
    "    temp2 = data2[0]\n",
    "    humd1 = data1[1]\n",
    "    humd2 = data2[1]\n",
    "    distance = abs(temp1-temp2)+abs(humd1-humd2)\n",
    "    return distance"
   ]
  },
  {
   "cell_type": "code",
   "execution_count": 217,
   "metadata": {},
   "outputs": [
    {
     "data": {
      "text/plain": [
       "35"
      ]
     },
     "execution_count": 217,
     "metadata": {},
     "output_type": "execute_result"
    }
   ],
   "source": [
    "cal_distance(array_dataset[1],array_dataset[2])"
   ]
  },
  {
   "cell_type": "markdown",
   "metadata": {},
   "source": [
    "## Define Neighbors & Cluster"
   ]
  },
  {
   "cell_type": "code",
   "execution_count": 218,
   "metadata": {},
   "outputs": [],
   "source": [
    "def get_neighbors(dataset,cp):\n",
    "    #random_index = randint(0,len(dataset))\n",
    "    distance_neighbors = []\n",
    "    index_neighbors = []\n",
    "    neighbors = []\n",
    "    central_point = cp\n",
    "    eps = 15\n",
    "    \n",
    "    for i in range(len(dataset)):\n",
    "        count_distance = cal_distance(central_point,dataset[i])\n",
    "        if count_distance <= eps and count_distance!=0:\n",
    "            #distance_neighbours.append(count_distance)\n",
    "            index_neighbors.append(i)\n",
    "            \n",
    "    #neighbours = dict(zip(index_neighbours,distance_neighbours))\n",
    "    return index_neighbors\n",
    "\n",
    "def define_cluster(dataset,neighbor_array,cluster,minPts):\n",
    "    \n",
    "    #X: Semua point yg ada pada dataset\n",
    "    #NeighborsPts : semua index yg merupakan ketetanggaan hasil dari perhitungan minskowski\n",
    "    #C : Label untuk cluster baru \n",
    "    count=0\n",
    "    while count <len(neighbor_array):\n",
    "        next_point=neighbor_array[count]\n",
    "        print('central point :',next_point)\n",
    "        if dataset[next_point,-1]==-1:\n",
    "            dataset[next_point,-1]=cluster\n",
    "            \n",
    "        elif dataset[next_point,-1]==0:\n",
    "            dataset[next_point,-1]=cluster\n",
    "        \n",
    "            next_point_neighbor=get_neighbors(dataset[:,:-1],dataset[next_point,:-1])\n",
    "            \n",
    "            if len(next_point_neighbor)>=minPts:\n",
    "                \n",
    "                print(\"neigbor dari data\",next_point,\":\", next_point_neighbor)\n",
    "                neighbor_array = np.unique(np.concatenate((neighbor_array,next_point_neighbor)))\n",
    "                print(\"all neighbor :\",neighbor_array,\"\\n\")\n",
    "                print(dataset,\"\\n\")\n",
    "        else:\n",
    "            print(\"sudah memiliki cluster\\n\")\n",
    "        count+=1\n",
    "    print(\"Hasil Clustering\",cluster,\"\\n\",dataset,'\\n\\n============================================================\\n')\n",
    "        \n",
    "def main_dbscan(dataset,minPts):\n",
    "    cluster = 0\n",
    "    central_point = 2\n",
    "    \n",
    "    for i in range(central_point,len(dataset)):\n",
    "        if (dataset[i,-1]!=0):\n",
    "            continue\n",
    "        \n",
    "        neighbor_array=get_neighbors(dataset[:,:-1],dataset[i,:-1])\n",
    "        print(\"central point :\",i)\n",
    "        print(\"neighbor dari data\",i,\":\",neighbor_array)\n",
    "        if len(neighbor_array)<minPts:\n",
    "            dataset[i,-1]=-1\n",
    "            print(dataset,'\\ndata noise\\n')\n",
    "        else :\n",
    "            cluster+=1\n",
    "            dataset[i,-1] = cluster\n",
    "            #print(\"central point :\",i)\n",
    "            print(dataset,'\\n')\n",
    "            define_cluster(dataset,neighbor_array,cluster,minPts)\n",
    "        \n",
    "    return dataset"
   ]
  },
  {
   "cell_type": "code",
   "execution_count": 219,
   "metadata": {},
   "outputs": [
    {
     "name": "stdout",
     "output_type": "stream",
     "text": [
      "central point : 2\n",
      "neighbor dari data 2 : [5, 7, 8]\n",
      "[[85 85  0]\n",
      " [80 90  0]\n",
      " [65 70  1]\n",
      " [72 95  0]\n",
      " [83 78  0]\n",
      " [60 75  0]\n",
      " [78 85  0]\n",
      " [64 65  0]\n",
      " [69 70  0]\n",
      " [75 88  0]] \n",
      "\n",
      "central point : 5\n",
      "neigbor dari data 5 : [2, 7, 8]\n",
      "all neighbor : [2 5 7 8] \n",
      "\n",
      "[[85 85  0]\n",
      " [80 90  0]\n",
      " [65 70  1]\n",
      " [72 95  0]\n",
      " [83 78  0]\n",
      " [60 75  1]\n",
      " [78 85  0]\n",
      " [64 65  0]\n",
      " [69 70  0]\n",
      " [75 88  0]] \n",
      "\n",
      "central point : 5\n",
      "sudah memiliki cluster\n",
      "\n",
      "central point : 7\n",
      "neigbor dari data 7 : [2, 5, 8]\n",
      "all neighbor : [2 5 7 8] \n",
      "\n",
      "[[85 85  0]\n",
      " [80 90  0]\n",
      " [65 70  1]\n",
      " [72 95  0]\n",
      " [83 78  0]\n",
      " [60 75  1]\n",
      " [78 85  0]\n",
      " [64 65  1]\n",
      " [69 70  0]\n",
      " [75 88  0]] \n",
      "\n",
      "central point : 8\n",
      "neigbor dari data 8 : [2, 5, 7]\n",
      "all neighbor : [2 5 7 8] \n",
      "\n",
      "[[85 85  0]\n",
      " [80 90  0]\n",
      " [65 70  1]\n",
      " [72 95  0]\n",
      " [83 78  0]\n",
      " [60 75  1]\n",
      " [78 85  0]\n",
      " [64 65  1]\n",
      " [69 70  1]\n",
      " [75 88  0]] \n",
      "\n",
      "Hasil Clustering 1 \n",
      " [[85 85  0]\n",
      " [80 90  0]\n",
      " [65 70  1]\n",
      " [72 95  0]\n",
      " [83 78  0]\n",
      " [60 75  1]\n",
      " [78 85  0]\n",
      " [64 65  1]\n",
      " [69 70  1]\n",
      " [75 88  0]] \n",
      "\n",
      "============================================================\n",
      "\n",
      "central point : 3\n",
      "neighbor dari data 3 : [1, 9]\n",
      "[[85 85  0]\n",
      " [80 90  0]\n",
      " [65 70  1]\n",
      " [72 95 -1]\n",
      " [83 78  0]\n",
      " [60 75  1]\n",
      " [78 85  0]\n",
      " [64 65  1]\n",
      " [69 70  1]\n",
      " [75 88  0]] \n",
      "data noise\n",
      "\n",
      "central point : 4\n",
      "neighbor dari data 4 : [0, 1, 6]\n",
      "[[85 85  0]\n",
      " [80 90  0]\n",
      " [65 70  1]\n",
      " [72 95 -1]\n",
      " [83 78  2]\n",
      " [60 75  1]\n",
      " [78 85  0]\n",
      " [64 65  1]\n",
      " [69 70  1]\n",
      " [75 88  0]] \n",
      "\n",
      "central point : 0\n",
      "neigbor dari data 0 : [1, 4, 6, 9]\n",
      "all neighbor : [0 1 4 6 9] \n",
      "\n",
      "[[85 85  2]\n",
      " [80 90  0]\n",
      " [65 70  1]\n",
      " [72 95 -1]\n",
      " [83 78  2]\n",
      " [60 75  1]\n",
      " [78 85  0]\n",
      " [64 65  1]\n",
      " [69 70  1]\n",
      " [75 88  0]] \n",
      "\n",
      "central point : 1\n",
      "neigbor dari data 1 : [0, 3, 4, 6, 9]\n",
      "all neighbor : [0 1 3 4 6 9] \n",
      "\n",
      "[[85 85  2]\n",
      " [80 90  2]\n",
      " [65 70  1]\n",
      " [72 95 -1]\n",
      " [83 78  2]\n",
      " [60 75  1]\n",
      " [78 85  0]\n",
      " [64 65  1]\n",
      " [69 70  1]\n",
      " [75 88  0]] \n",
      "\n",
      "central point : 3\n",
      "central point : 4\n",
      "sudah memiliki cluster\n",
      "\n",
      "central point : 6\n",
      "neigbor dari data 6 : [0, 1, 4, 9]\n",
      "all neighbor : [0 1 3 4 6 9] \n",
      "\n",
      "[[85 85  2]\n",
      " [80 90  2]\n",
      " [65 70  1]\n",
      " [72 95  2]\n",
      " [83 78  2]\n",
      " [60 75  1]\n",
      " [78 85  2]\n",
      " [64 65  1]\n",
      " [69 70  1]\n",
      " [75 88  0]] \n",
      "\n",
      "central point : 9\n",
      "neigbor dari data 9 : [0, 1, 3, 6]\n",
      "all neighbor : [0 1 3 4 6 9] \n",
      "\n",
      "[[85 85  2]\n",
      " [80 90  2]\n",
      " [65 70  1]\n",
      " [72 95  2]\n",
      " [83 78  2]\n",
      " [60 75  1]\n",
      " [78 85  2]\n",
      " [64 65  1]\n",
      " [69 70  1]\n",
      " [75 88  2]] \n",
      "\n",
      "Hasil Clustering 2 \n",
      " [[85 85  2]\n",
      " [80 90  2]\n",
      " [65 70  1]\n",
      " [72 95  2]\n",
      " [83 78  2]\n",
      " [60 75  1]\n",
      " [78 85  2]\n",
      " [64 65  1]\n",
      " [69 70  1]\n",
      " [75 88  2]] \n",
      "\n",
      "============================================================\n",
      "\n"
     ]
    }
   ],
   "source": [
    "array_dataset = main_dbscan(array_dataset,3)"
   ]
  },
  {
   "cell_type": "code",
   "execution_count": 220,
   "metadata": {},
   "outputs": [
    {
     "data": {
      "text/plain": [
       "array([[85, 85,  2],\n",
       "       [80, 90,  2],\n",
       "       [65, 70,  1],\n",
       "       [72, 95,  2],\n",
       "       [83, 78,  2],\n",
       "       [60, 75,  1],\n",
       "       [78, 85,  2],\n",
       "       [64, 65,  1],\n",
       "       [69, 70,  1],\n",
       "       [75, 88,  2]], dtype=int64)"
      ]
     },
     "execution_count": 220,
     "metadata": {},
     "output_type": "execute_result"
    }
   ],
   "source": [
    "array_dataset"
   ]
  },
  {
   "cell_type": "code",
   "execution_count": null,
   "metadata": {},
   "outputs": [],
   "source": []
  },
  {
   "cell_type": "code",
   "execution_count": null,
   "metadata": {},
   "outputs": [],
   "source": []
  }
 ],
 "metadata": {
  "kernelspec": {
   "display_name": "Python 3",
   "language": "python",
   "name": "python3"
  },
  "language_info": {
   "codemirror_mode": {
    "name": "ipython",
    "version": 3
   },
   "file_extension": ".py",
   "mimetype": "text/x-python",
   "name": "python",
   "nbconvert_exporter": "python",
   "pygments_lexer": "ipython3",
   "version": "3.7.1"
  }
 },
 "nbformat": 4,
 "nbformat_minor": 2
}
